{
  "nbformat": 4,
  "nbformat_minor": 0,
  "metadata": {
    "kernelspec": {
      "display_name": "Python 3",
      "language": "python",
      "name": "python3"
    },
    "language_info": {
      "codemirror_mode": {
        "name": "ipython",
        "version": 3
      },
      "file_extension": ".py",
      "mimetype": "text/x-python",
      "name": "python",
      "nbconvert_exporter": "python",
      "pygments_lexer": "ipython3",
      "version": "3.7.1"
    },
    "colab": {
      "provenance": [],
      "collapsed_sections": [],
      "include_colab_link": true
    }
  },
  "cells": [
    {
      "cell_type": "markdown",
      "metadata": {
        "id": "view-in-github",
        "colab_type": "text"
      },
      "source": [
        "<a href=\"https://colab.research.google.com/github/LuisSilvaS/Machine_Learning/blob/main/An%C3%A1lise_de_Sentimentos.ipynb\" target=\"_parent\"><img src=\"https://colab.research.google.com/assets/colab-badge.svg\" alt=\"Open In Colab\"/></a>"
      ]
    },
    {
      "cell_type": "code",
      "metadata": {
        "id": "MhrG9iS9fL4L",
        "outputId": "dcdbaec6-f95b-4bc4-9b74-af8becaf8efe",
        "colab": {
          "base_uri": "https://localhost:8080/"
        }
      },
      "source": [
        "from google.colab import drive\n",
        "drive.mount('/content/drive')"
      ],
      "execution_count": 5,
      "outputs": [
        {
          "output_type": "stream",
          "name": "stdout",
          "text": [
            "Drive already mounted at /content/drive; to attempt to forcibly remount, call drive.mount(\"/content/drive\", force_remount=True).\n"
          ]
        }
      ]
    },
    {
      "cell_type": "markdown",
      "metadata": {
        "id": "Oks5bNFRfHHB"
      },
      "source": [
        "## **Análise de Sentimentos usando Machine Learning**"
      ]
    },
    {
      "cell_type": "markdown",
      "metadata": {
        "id": "IJsB6eY0fHHC"
      },
      "source": [
        "* Criando modelos para análise de sentimentos de tweets"
      ]
    },
    {
      "cell_type": "code",
      "metadata": {
        "id": "T4_K6NcqfHHD"
      },
      "source": [
        "from nltk import word_tokenize\n",
        "import nltk\n",
        "import re\n",
        "import pandas as pd\n",
        "from sklearn.feature_extraction.text import CountVectorizer\n",
        "from sklearn.naive_bayes import MultinomialNB\n",
        "from sklearn import svm\n",
        "from sklearn import metrics\n",
        "from sklearn.model_selection import cross_val_predict"
      ],
      "execution_count": 6,
      "outputs": []
    },
    {
      "cell_type": "markdown",
      "metadata": {
        "id": "r1pxDwaHfHHF"
      },
      "source": [
        "**Ler arquivo de dados e conta a quantidade de linhas**"
      ]
    },
    {
      "cell_type": "code",
      "metadata": {
        "id": "GOYpa0vtfHHG"
      },
      "source": [
        "df = pd.read_csv('/content/drive/MyDrive/Datasets - DS/Tweets_Mg.csv', encoding='utf-8')"
      ],
      "execution_count": 7,
      "outputs": []
    },
    {
      "cell_type": "code",
      "metadata": {
        "id": "DzxUf5TOnF-4",
        "outputId": "529cf756-286b-410b-fd1f-0f8d94c2e2b2",
        "colab": {
          "base_uri": "https://localhost:8080/",
          "height": 664
        }
      },
      "source": [
        "df.head()"
      ],
      "execution_count": 8,
      "outputs": [
        {
          "output_type": "execute_result",
          "data": {
            "text/plain": [
              "   Unnamed: 0                      Created At  \\\n",
              "0           0  Sun Jan 08 01:22:05 +0000 2017   \n",
              "1           1  Sun Jan 08 01:49:01 +0000 2017   \n",
              "2           2  Sun Jan 08 01:01:46 +0000 2017   \n",
              "3           3  Wed Jan 04 21:43:51 +0000 2017   \n",
              "4           4  Mon Jan 09 15:08:21 +0000 2017   \n",
              "\n",
              "                                                Text  \\\n",
              "0  ���⛪ @ Catedral de Santo Antônio - Governador ...   \n",
              "1  � @ Governador Valadares, Minas Gerais https:/...   \n",
              "2  �� @ Governador Valadares, Minas Gerais https:...   \n",
              "3                        ��� https://t.co/BnDsO34qK0   \n",
              "4  ��� PSOL vai questionar aumento de vereadores ...   \n",
              "\n",
              "   Geo Coordinates.latitude  Geo Coordinates.longitude User Location  \\\n",
              "0                       NaN                        NaN        Brasil   \n",
              "1                  -41.9333                     -18.85           NaN   \n",
              "2                  -41.9333                     -18.85           NaN   \n",
              "3                       NaN                        NaN           NaN   \n",
              "4                       NaN                        NaN           NaN   \n",
              "\n",
              "               Username User Screen Name  Retweet Count Classificacao  ...  \\\n",
              "0  Leonardo C Schneider    LeoCSchneider              0        Neutro  ...   \n",
              "1               Wândell         klefnews              0        Neutro  ...   \n",
              "2               Wândell         klefnews              0        Neutro  ...   \n",
              "3         Ana estudando  estudandoconcur              0        Neutro  ...   \n",
              "4                 Emily         Milly777              0      Negativo  ...   \n",
              "\n",
              "  Unnamed: 15  Unnamed: 16  Unnamed: 17  Unnamed: 18  Unnamed: 19  \\\n",
              "0         NaN          NaN          NaN          NaN          NaN   \n",
              "1         NaN          NaN          NaN          NaN          NaN   \n",
              "2         NaN          NaN          NaN          NaN          NaN   \n",
              "3         NaN          NaN          NaN          NaN          NaN   \n",
              "4         NaN          NaN          NaN          NaN          NaN   \n",
              "\n",
              "   Unnamed: 20  Unnamed: 21  Unnamed: 22  Unnamed: 23  Unnamed: 24  \n",
              "0          NaN          NaN          NaN          NaN          NaN  \n",
              "1          NaN          NaN          NaN          NaN          NaN  \n",
              "2          NaN          NaN          NaN          NaN          NaN  \n",
              "3          NaN          NaN          NaN          NaN          NaN  \n",
              "4          NaN          NaN          NaN          NaN          NaN  \n",
              "\n",
              "[5 rows x 26 columns]"
            ],
            "text/html": [
              "\n",
              "  <div id=\"df-68eb91e4-7eeb-47aa-a2c9-8c3f0674706b\">\n",
              "    <div class=\"colab-df-container\">\n",
              "      <div>\n",
              "<style scoped>\n",
              "    .dataframe tbody tr th:only-of-type {\n",
              "        vertical-align: middle;\n",
              "    }\n",
              "\n",
              "    .dataframe tbody tr th {\n",
              "        vertical-align: top;\n",
              "    }\n",
              "\n",
              "    .dataframe thead th {\n",
              "        text-align: right;\n",
              "    }\n",
              "</style>\n",
              "<table border=\"1\" class=\"dataframe\">\n",
              "  <thead>\n",
              "    <tr style=\"text-align: right;\">\n",
              "      <th></th>\n",
              "      <th>Unnamed: 0</th>\n",
              "      <th>Created At</th>\n",
              "      <th>Text</th>\n",
              "      <th>Geo Coordinates.latitude</th>\n",
              "      <th>Geo Coordinates.longitude</th>\n",
              "      <th>User Location</th>\n",
              "      <th>Username</th>\n",
              "      <th>User Screen Name</th>\n",
              "      <th>Retweet Count</th>\n",
              "      <th>Classificacao</th>\n",
              "      <th>...</th>\n",
              "      <th>Unnamed: 15</th>\n",
              "      <th>Unnamed: 16</th>\n",
              "      <th>Unnamed: 17</th>\n",
              "      <th>Unnamed: 18</th>\n",
              "      <th>Unnamed: 19</th>\n",
              "      <th>Unnamed: 20</th>\n",
              "      <th>Unnamed: 21</th>\n",
              "      <th>Unnamed: 22</th>\n",
              "      <th>Unnamed: 23</th>\n",
              "      <th>Unnamed: 24</th>\n",
              "    </tr>\n",
              "  </thead>\n",
              "  <tbody>\n",
              "    <tr>\n",
              "      <th>0</th>\n",
              "      <td>0</td>\n",
              "      <td>Sun Jan 08 01:22:05 +0000 2017</td>\n",
              "      <td>���⛪ @ Catedral de Santo Antônio - Governador ...</td>\n",
              "      <td>NaN</td>\n",
              "      <td>NaN</td>\n",
              "      <td>Brasil</td>\n",
              "      <td>Leonardo C Schneider</td>\n",
              "      <td>LeoCSchneider</td>\n",
              "      <td>0</td>\n",
              "      <td>Neutro</td>\n",
              "      <td>...</td>\n",
              "      <td>NaN</td>\n",
              "      <td>NaN</td>\n",
              "      <td>NaN</td>\n",
              "      <td>NaN</td>\n",
              "      <td>NaN</td>\n",
              "      <td>NaN</td>\n",
              "      <td>NaN</td>\n",
              "      <td>NaN</td>\n",
              "      <td>NaN</td>\n",
              "      <td>NaN</td>\n",
              "    </tr>\n",
              "    <tr>\n",
              "      <th>1</th>\n",
              "      <td>1</td>\n",
              "      <td>Sun Jan 08 01:49:01 +0000 2017</td>\n",
              "      <td>� @ Governador Valadares, Minas Gerais https:/...</td>\n",
              "      <td>-41.9333</td>\n",
              "      <td>-18.85</td>\n",
              "      <td>NaN</td>\n",
              "      <td>Wândell</td>\n",
              "      <td>klefnews</td>\n",
              "      <td>0</td>\n",
              "      <td>Neutro</td>\n",
              "      <td>...</td>\n",
              "      <td>NaN</td>\n",
              "      <td>NaN</td>\n",
              "      <td>NaN</td>\n",
              "      <td>NaN</td>\n",
              "      <td>NaN</td>\n",
              "      <td>NaN</td>\n",
              "      <td>NaN</td>\n",
              "      <td>NaN</td>\n",
              "      <td>NaN</td>\n",
              "      <td>NaN</td>\n",
              "    </tr>\n",
              "    <tr>\n",
              "      <th>2</th>\n",
              "      <td>2</td>\n",
              "      <td>Sun Jan 08 01:01:46 +0000 2017</td>\n",
              "      <td>�� @ Governador Valadares, Minas Gerais https:...</td>\n",
              "      <td>-41.9333</td>\n",
              "      <td>-18.85</td>\n",
              "      <td>NaN</td>\n",
              "      <td>Wândell</td>\n",
              "      <td>klefnews</td>\n",
              "      <td>0</td>\n",
              "      <td>Neutro</td>\n",
              "      <td>...</td>\n",
              "      <td>NaN</td>\n",
              "      <td>NaN</td>\n",
              "      <td>NaN</td>\n",
              "      <td>NaN</td>\n",
              "      <td>NaN</td>\n",
              "      <td>NaN</td>\n",
              "      <td>NaN</td>\n",
              "      <td>NaN</td>\n",
              "      <td>NaN</td>\n",
              "      <td>NaN</td>\n",
              "    </tr>\n",
              "    <tr>\n",
              "      <th>3</th>\n",
              "      <td>3</td>\n",
              "      <td>Wed Jan 04 21:43:51 +0000 2017</td>\n",
              "      <td>��� https://t.co/BnDsO34qK0</td>\n",
              "      <td>NaN</td>\n",
              "      <td>NaN</td>\n",
              "      <td>NaN</td>\n",
              "      <td>Ana estudando</td>\n",
              "      <td>estudandoconcur</td>\n",
              "      <td>0</td>\n",
              "      <td>Neutro</td>\n",
              "      <td>...</td>\n",
              "      <td>NaN</td>\n",
              "      <td>NaN</td>\n",
              "      <td>NaN</td>\n",
              "      <td>NaN</td>\n",
              "      <td>NaN</td>\n",
              "      <td>NaN</td>\n",
              "      <td>NaN</td>\n",
              "      <td>NaN</td>\n",
              "      <td>NaN</td>\n",
              "      <td>NaN</td>\n",
              "    </tr>\n",
              "    <tr>\n",
              "      <th>4</th>\n",
              "      <td>4</td>\n",
              "      <td>Mon Jan 09 15:08:21 +0000 2017</td>\n",
              "      <td>��� PSOL vai questionar aumento de vereadores ...</td>\n",
              "      <td>NaN</td>\n",
              "      <td>NaN</td>\n",
              "      <td>NaN</td>\n",
              "      <td>Emily</td>\n",
              "      <td>Milly777</td>\n",
              "      <td>0</td>\n",
              "      <td>Negativo</td>\n",
              "      <td>...</td>\n",
              "      <td>NaN</td>\n",
              "      <td>NaN</td>\n",
              "      <td>NaN</td>\n",
              "      <td>NaN</td>\n",
              "      <td>NaN</td>\n",
              "      <td>NaN</td>\n",
              "      <td>NaN</td>\n",
              "      <td>NaN</td>\n",
              "      <td>NaN</td>\n",
              "      <td>NaN</td>\n",
              "    </tr>\n",
              "  </tbody>\n",
              "</table>\n",
              "<p>5 rows × 26 columns</p>\n",
              "</div>\n",
              "      <button class=\"colab-df-convert\" onclick=\"convertToInteractive('df-68eb91e4-7eeb-47aa-a2c9-8c3f0674706b')\"\n",
              "              title=\"Convert this dataframe to an interactive table.\"\n",
              "              style=\"display:none;\">\n",
              "        \n",
              "  <svg xmlns=\"http://www.w3.org/2000/svg\" height=\"24px\"viewBox=\"0 0 24 24\"\n",
              "       width=\"24px\">\n",
              "    <path d=\"M0 0h24v24H0V0z\" fill=\"none\"/>\n",
              "    <path d=\"M18.56 5.44l.94 2.06.94-2.06 2.06-.94-2.06-.94-.94-2.06-.94 2.06-2.06.94zm-11 1L8.5 8.5l.94-2.06 2.06-.94-2.06-.94L8.5 2.5l-.94 2.06-2.06.94zm10 10l.94 2.06.94-2.06 2.06-.94-2.06-.94-.94-2.06-.94 2.06-2.06.94z\"/><path d=\"M17.41 7.96l-1.37-1.37c-.4-.4-.92-.59-1.43-.59-.52 0-1.04.2-1.43.59L10.3 9.45l-7.72 7.72c-.78.78-.78 2.05 0 2.83L4 21.41c.39.39.9.59 1.41.59.51 0 1.02-.2 1.41-.59l7.78-7.78 2.81-2.81c.8-.78.8-2.07 0-2.86zM5.41 20L4 18.59l7.72-7.72 1.47 1.35L5.41 20z\"/>\n",
              "  </svg>\n",
              "      </button>\n",
              "      \n",
              "  <style>\n",
              "    .colab-df-container {\n",
              "      display:flex;\n",
              "      flex-wrap:wrap;\n",
              "      gap: 12px;\n",
              "    }\n",
              "\n",
              "    .colab-df-convert {\n",
              "      background-color: #E8F0FE;\n",
              "      border: none;\n",
              "      border-radius: 50%;\n",
              "      cursor: pointer;\n",
              "      display: none;\n",
              "      fill: #1967D2;\n",
              "      height: 32px;\n",
              "      padding: 0 0 0 0;\n",
              "      width: 32px;\n",
              "    }\n",
              "\n",
              "    .colab-df-convert:hover {\n",
              "      background-color: #E2EBFA;\n",
              "      box-shadow: 0px 1px 2px rgba(60, 64, 67, 0.3), 0px 1px 3px 1px rgba(60, 64, 67, 0.15);\n",
              "      fill: #174EA6;\n",
              "    }\n",
              "\n",
              "    [theme=dark] .colab-df-convert {\n",
              "      background-color: #3B4455;\n",
              "      fill: #D2E3FC;\n",
              "    }\n",
              "\n",
              "    [theme=dark] .colab-df-convert:hover {\n",
              "      background-color: #434B5C;\n",
              "      box-shadow: 0px 1px 3px 1px rgba(0, 0, 0, 0.15);\n",
              "      filter: drop-shadow(0px 1px 2px rgba(0, 0, 0, 0.3));\n",
              "      fill: #FFFFFF;\n",
              "    }\n",
              "  </style>\n",
              "\n",
              "      <script>\n",
              "        const buttonEl =\n",
              "          document.querySelector('#df-68eb91e4-7eeb-47aa-a2c9-8c3f0674706b button.colab-df-convert');\n",
              "        buttonEl.style.display =\n",
              "          google.colab.kernel.accessAllowed ? 'block' : 'none';\n",
              "\n",
              "        async function convertToInteractive(key) {\n",
              "          const element = document.querySelector('#df-68eb91e4-7eeb-47aa-a2c9-8c3f0674706b');\n",
              "          const dataTable =\n",
              "            await google.colab.kernel.invokeFunction('convertToInteractive',\n",
              "                                                     [key], {});\n",
              "          if (!dataTable) return;\n",
              "\n",
              "          const docLinkHtml = 'Like what you see? Visit the ' +\n",
              "            '<a target=\"_blank\" href=https://colab.research.google.com/notebooks/data_table.ipynb>data table notebook</a>'\n",
              "            + ' to learn more about interactive tables.';\n",
              "          element.innerHTML = '';\n",
              "          dataTable['output_type'] = 'display_data';\n",
              "          await google.colab.output.renderOutput(dataTable, element);\n",
              "          const docLink = document.createElement('div');\n",
              "          docLink.innerHTML = docLinkHtml;\n",
              "          element.appendChild(docLink);\n",
              "        }\n",
              "      </script>\n",
              "    </div>\n",
              "  </div>\n",
              "  "
            ]
          },
          "metadata": {},
          "execution_count": 8
        }
      ]
    },
    {
      "cell_type": "markdown",
      "metadata": {
        "id": "S2VSXvUwfHHL"
      },
      "source": [
        "**Conta a quantidade de linhas de tweets neutros, positivos e negativos**"
      ]
    },
    {
      "cell_type": "code",
      "metadata": {
        "id": "-8EpKNzMfwNH",
        "colab": {
          "base_uri": "https://localhost:8080/"
        },
        "outputId": "e4d99dc8-33fb-410d-8b9c-ba7dc51bcd4c"
      },
      "source": [
        "df.Classificacao.value_counts()"
      ],
      "execution_count": 9,
      "outputs": [
        {
          "output_type": "execute_result",
          "data": {
            "text/plain": [
              "Positivo    3300\n",
              "Neutro      2453\n",
              "Negativo    2446\n",
              "Name: Classificacao, dtype: int64"
            ]
          },
          "metadata": {},
          "execution_count": 9
        }
      ]
    },
    {
      "cell_type": "code",
      "metadata": {
        "id": "aIj5Lin3fHHT",
        "colab": {
          "base_uri": "https://localhost:8080/",
          "height": 317
        },
        "outputId": "1852aad2-8c6d-4e57-f4a7-e79edcb15d44"
      },
      "source": [
        "%matplotlib inline\n",
        "df.Classificacao.value_counts().plot(kind='bar')"
      ],
      "execution_count": 10,
      "outputs": [
        {
          "output_type": "execute_result",
          "data": {
            "text/plain": [
              "<matplotlib.axes._subplots.AxesSubplot at 0x7f4826033710>"
            ]
          },
          "metadata": {},
          "execution_count": 10
        },
        {
          "output_type": "display_data",
          "data": {
            "text/plain": [
              "<Figure size 432x288 with 1 Axes>"
            ],
            "image/png": "[encoded data removed]"
          },
          "metadata": {
            "needs_background": "light"
          }
        }
      ]
    },
    {
      "cell_type": "code",
      "metadata": {
        "id": "fN7k0LCMfHHV",
        "colab": {
          "base_uri": "https://localhost:8080/"
        },
        "outputId": "5a515cb8-267d-4b57-e65b-91aece86b79a"
      },
      "source": [
        "df.count()"
      ],
      "execution_count": 11,
      "outputs": [
        {
          "output_type": "execute_result",
          "data": {
            "text/plain": [
              "Unnamed: 0                   8199\n",
              "Created At                   8199\n",
              "Text                         8199\n",
              "Geo Coordinates.latitude      104\n",
              "Geo Coordinates.longitude     104\n",
              "User Location                5489\n",
              "Username                     8199\n",
              "User Screen Name             8199\n",
              "Retweet Count                8199\n",
              "Classificacao                8199\n",
              "Observação                      1\n",
              "Unnamed: 10                     0\n",
              "Unnamed: 11                     0\n",
              "Unnamed: 12                     0\n",
              "Unnamed: 13                     0\n",
              "Unnamed: 14                     0\n",
              "Unnamed: 15                     0\n",
              "Unnamed: 16                     0\n",
              "Unnamed: 17                     0\n",
              "Unnamed: 18                     0\n",
              "Unnamed: 19                     0\n",
              "Unnamed: 20                     0\n",
              "Unnamed: 21                     0\n",
              "Unnamed: 22                     0\n",
              "Unnamed: 23                     0\n",
              "Unnamed: 24                     0\n",
              "dtype: int64"
            ]
          },
          "metadata": {},
          "execution_count": 11
        }
      ]
    },
    {
      "cell_type": "markdown",
      "metadata": {
        "id": "IWenqwCnfHHZ"
      },
      "source": [
        "## Pre-Processamento dos Dados"
      ]
    },
    {
      "cell_type": "markdown",
      "metadata": {
        "id": "2DuvWYo9fHHZ"
      },
      "source": [
        "* Remove linhas duplicadas na base de dados\n",
        "    - Problema na coleta dos dados.\n",
        "* Remove Stopwords\n",
        "* Stemming ou Lemmatization\n",
        "* Remove caracteres indesejados como links etc."
      ]
    },
    {
      "cell_type": "code",
      "metadata": {
        "id": "m23ema2FfHHa"
      },
      "source": [
        "df.drop_duplicates(['Text'], inplace=True)"
      ],
      "execution_count": 12,
      "outputs": []
    },
    {
      "cell_type": "code",
      "metadata": {
        "id": "SkPMW1UZfHHd",
        "colab": {
          "base_uri": "https://localhost:8080/"
        },
        "outputId": "4bc6b82e-a300-4d79-d359-667afa642253"
      },
      "source": [
        "df.Text.count()"
      ],
      "execution_count": 13,
      "outputs": [
        {
          "output_type": "execute_result",
          "data": {
            "text/plain": [
              "5765"
            ]
          },
          "metadata": {},
          "execution_count": 13
        }
      ]
    },
    {
      "cell_type": "markdown",
      "metadata": {
        "id": "J0uUvFajfHHf"
      },
      "source": [
        "## **Separando tweets e suas Classes**"
      ]
    },
    {
      "cell_type": "code",
      "metadata": {
        "id": "Uh7xRoHNfHHf"
      },
      "source": [
        "tweets = df['Text']\n",
        "classes = df['Classificacao']"
      ],
      "execution_count": 14,
      "outputs": []
    },
    {
      "cell_type": "markdown",
      "metadata": {
        "id": "pdBk0tyefHHh"
      },
      "source": [
        "**Instala bibliotecas e baixa a base de dados**"
      ]
    },
    {
      "cell_type": "code",
      "metadata": {
        "id": "M_opr6SFfHHi",
        "colab": {
          "base_uri": "https://localhost:8080/"
        },
        "outputId": "98372ca7-e5e8-474c-dfb9-4261d56f01e2"
      },
      "source": [
        "import nltk\n",
        "nltk.download('stopwords')\n",
        "nltk.download('rslp')\n",
        "nltk.download('punkt')\n",
        "nltk.download('wordnet')\n",
        "nltk.download('omw-1.4')"
      ],
      "execution_count": 29,
      "outputs": [
        {
          "output_type": "stream",
          "name": "stderr",
          "text": [
            "[nltk_data] Downloading package stopwords to /root/nltk_data...\n",
            "[nltk_data]   Package stopwords is already up-to-date!\n",
            "[nltk_data] Downloading package rslp to /root/nltk_data...\n",
            "[nltk_data]   Package rslp is already up-to-date!\n",
            "[nltk_data] Downloading package punkt to /root/nltk_data...\n",
            "[nltk_data]   Package punkt is already up-to-date!\n",
            "[nltk_data] Downloading package wordnet to /root/nltk_data...\n",
            "[nltk_data]   Package wordnet is already up-to-date!\n",
            "[nltk_data] Downloading package omw-1.4 to /root/nltk_data...\n"
          ]
        },
        {
          "output_type": "execute_result",
          "data": {
            "text/plain": [
              "True"
            ]
          },
          "metadata": {},
          "execution_count": 29
        }
      ]
    },
    {
      "cell_type": "markdown",
      "metadata": {
        "id": "2NV3syRNfHHk"
      },
      "source": [
        "**Funções de Pre-processamento de dados**"
      ]
    },
    {
      "cell_type": "code",
      "metadata": {
        "id": "M6HDfRzcfHHk"
      },
      "source": [
        "def RemoveStopWords(instancia):\n",
        "    stopwords = set(nltk.corpus.stopwords.words('portuguese'))\n",
        "    palavras = [i for i in instancia.split() if not i in stopwords]\n",
        "    return (\" \".join(palavras))"
      ],
      "execution_count": 20,
      "outputs": []
    },
    {
      "cell_type": "code",
      "metadata": {
        "id": "q8FS-ZoJfHHn"
      },
      "source": [
        "def Stemming(instancia):\n",
        "    stemmer = nltk.stem.RSLPStemmer()\n",
        "    palavras = []\n",
        "    for w in instancia.split():\n",
        "        palavras.append(stemmer.stem(w))\n",
        "    return (\" \".join(palavras))"
      ],
      "execution_count": 19,
      "outputs": []
    },
    {
      "cell_type": "code",
      "metadata": {
        "id": "NrLlbIaafHHp"
      },
      "source": [
        "def Limpeza_dados(instancia):\n",
        "    # remove links, pontos, virgulas,ponto e virgulas dos tweets\n",
        "    instancia = re.sub(r\"http\\S+\", \"\", instancia).lower().replace('.','').replace(';','').replace('-','').replace(':','').replace(')','')\n",
        "    return (instancia)"
      ],
      "execution_count": 21,
      "outputs": []
    },
    {
      "cell_type": "code",
      "metadata": {
        "id": "it75oz2vhCyy"
      },
      "source": [
        "from nltk.stem import WordNetLemmatizer\n",
        "wordnet_lemmatizer = WordNetLemmatizer()\n",
        "\n",
        "def Lemmatization(instancia):\n",
        "  palavras = []\n",
        "  for w in instancia.split():\n",
        "    palavras.append(wordnet_lemmatizer.lemmatize(w))\n",
        "  return (\" \".join(palavras))"
      ],
      "execution_count": 22,
      "outputs": []
    },
    {
      "cell_type": "markdown",
      "metadata": {
        "id": "TiATzqyZfHHs"
      },
      "source": [
        "**Entenda como funciona cada função**"
      ]
    },
    {
      "cell_type": "code",
      "metadata": {
        "id": "Jn7uqh9KfHHs",
        "colab": {
          "base_uri": "https://localhost:8080/",
          "height": 36
        },
        "outputId": "b9d51425-f561-4725-df7c-a06a6464a0e1"
      },
      "source": [
        "RemoveStopWords('Eu não gosto do partido, e também não votaria novamente nesse governante!')"
      ],
      "execution_count": 23,
      "outputs": [
        {
          "output_type": "execute_result",
          "data": {
            "text/plain": [
              "'Eu gosto partido, votaria novamente nesse governante!'"
            ],
            "application/vnd.google.colaboratory.intrinsic+json": {
              "type": "string"
            }
          },
          "metadata": {},
          "execution_count": 23
        }
      ]
    },
    {
      "cell_type": "code",
      "metadata": {
        "id": "YCEFse4ZfHHv",
        "colab": {
          "base_uri": "https://localhost:8080/",
          "height": 36
        },
        "outputId": "2562ddb2-d8b5-4ec7-de1c-97df7d592aef"
      },
      "source": [
        "Stemming('Eu não gosto do partido, e também não votaria novamente nesse governante!')"
      ],
      "execution_count": 24,
      "outputs": [
        {
          "output_type": "execute_result",
          "data": {
            "text/plain": [
              "'eu não gost do partido, e também não vot nov ness governante!'"
            ],
            "application/vnd.google.colaboratory.intrinsic+json": {
              "type": "string"
            }
          },
          "metadata": {},
          "execution_count": 24
        }
      ]
    },
    {
      "cell_type": "code",
      "metadata": {
        "id": "F3riOVgGfHHz",
        "colab": {
          "base_uri": "https://localhost:8080/",
          "height": 36
        },
        "outputId": "e54437d0-7a77-41f6-88fd-98266e6143e2"
      },
      "source": [
        "Limpeza_dados('Assita aqui o video do Governador falando sobre a CEMIG https://www.uol.com.br :) ;)')"
      ],
      "execution_count": 25,
      "outputs": [
        {
          "output_type": "execute_result",
          "data": {
            "text/plain": [
              "'assita aqui o video do governador falando sobre a cemig   '"
            ],
            "application/vnd.google.colaboratory.intrinsic+json": {
              "type": "string"
            }
          },
          "metadata": {},
          "execution_count": 25
        }
      ]
    },
    {
      "cell_type": "code",
      "metadata": {
        "id": "MEvt1kBghC9_",
        "colab": {
          "base_uri": "https://localhost:8080/",
          "height": 36
        },
        "outputId": "251d5141-9a63-415e-a2bf-489ee745d864"
      },
      "source": [
        "Lemmatization('Os carros são bonitos')"
      ],
      "execution_count": 30,
      "outputs": [
        {
          "output_type": "execute_result",
          "data": {
            "text/plain": [
              "'Os carros são bonito'"
            ],
            "application/vnd.google.colaboratory.intrinsic+json": {
              "type": "string"
            }
          },
          "metadata": {},
          "execution_count": 30
        }
      ]
    },
    {
      "cell_type": "markdown",
      "metadata": {
        "id": "s8JohAMlfHH3"
      },
      "source": [
        "**Aplica as 3 funções de Pre-processamento nos dados**"
      ]
    },
    {
      "cell_type": "code",
      "metadata": {
        "id": "0C2bY97JfHH4"
      },
      "source": [
        "def Preprocessing(instancia):\n",
        "    stemmer = nltk.stem.RSLPStemmer()\n",
        "    instancia = re.sub(r\"http\\S+\", \"\", instancia).lower().replace('.','').replace(';','').replace('-','').replace(':','').replace(')','')\n",
        "    stopwords = set(nltk.corpus.stopwords.words('portuguese'))\n",
        "    palavras = [stemmer.stem(i) for i in instancia.split() if not i in stopwords]\n",
        "    return (\" \".join(palavras))\n",
        "\n",
        "# Aplica a função em todos os dados:\n",
        "tweets = [Preprocessing(i) for i in tweets]"
      ],
      "execution_count": 31,
      "outputs": []
    },
    {
      "cell_type": "code",
      "metadata": {
        "id": "D77vjoRCfHH6",
        "colab": {
          "base_uri": "https://localhost:8080/",
          "height": 36
        },
        "outputId": "138eb3d3-a9ef-4b45-92c5-5a80b48ee140"
      },
      "source": [
        "Preprocessing('Eu não gosto do partido, e também não votaria novamente nesse governante. Assita o video aqui https:// :)')"
      ],
      "execution_count": 32,
      "outputs": [
        {
          "output_type": "execute_result",
          "data": {
            "text/plain": [
              "'gost partido, vot nov ness govern assit vide aqu'"
            ],
            "application/vnd.google.colaboratory.intrinsic+json": {
              "type": "string"
            }
          },
          "metadata": {},
          "execution_count": 32
        }
      ]
    },
    {
      "cell_type": "markdown",
      "metadata": {
        "id": "ncXEOQOCfHH8"
      },
      "source": [
        "**Visualize os dados e veja como ficou após o pré-processamento**"
      ]
    },
    {
      "cell_type": "code",
      "metadata": {
        "id": "4Fg7uWnpfHH9",
        "colab": {
          "base_uri": "https://localhost:8080/"
        },
        "outputId": "a8ae7603-3247-4690-b077-d74663dfb430"
      },
      "source": [
        "tweets[:50]"
      ],
      "execution_count": 33,
      "outputs": [
        {
          "output_type": "execute_result",
          "data": {
            "text/plain": [
              "['���⛪ @ catedr sant antôni govern valadares/mg',\n",
              " '� @ govern valadares, min geral',\n",
              " '�� @ govern valadares, min geral',\n",
              " '���',\n",
              " '��� psol vai quest aument vere prefeit bh justiç poli est min',\n",
              " '\" bom band morto\" deput cab júli conden fic ineleg 10 ano poli est min',\n",
              " '\"e 25% min diz torc tim nenhum,mesm dentr est atléticomg cruz pq?\"',\n",
              " '\"a gigantesc barb mal\" destaqu cadern cult est min',\n",
              " '\"bb govern min tr disput sobr depósit judiciais\"',\n",
              " '\"com vc bh fic pequena!\" bel horizont (pron [bɛloɾiˈzõntʃi][10] capit est mg, áre aproximad 331 km²',\n",
              " '\"daí gent visit govern valadares\" \"qu lug eh mãe?\" \"mg, gent um parent la\" man ond q parent',\n",
              " '\"é bonit bonita\" #latergr #ibiturun #hom @ govern valadares, min geral',\n",
              " '\"err desconhecido\" mato! aliás, secret estad fazend tá assim mg precis dinh não, governador?',\n",
              " '\"la la land cant estações\" arras glob our est min',\n",
              " '\"la la land cant estações\" arras glob our est min',\n",
              " '\"lo abusos, aun en el est má sólido, son min sord tard tempr estallan\" joseph sanialdubay',\n",
              " '\"mesm dinh caix govern min geral compr 2 (doil helicópteros\" doi helicópter min geral #2017 s1',\n",
              " '\"model seguranç legado\", diz cláudi beat poli est min',\n",
              " '\"model seguranç legado\", diz cláudi beat poli est min',\n",
              " '\"model seguranç legado\", diz cláudi beat poli est min',\n",
              " '\"o govern min geral coment assunt \"',\n",
              " '\"o govern feder public dia 27 dezembr 2016, med provisór 764/16 permit diferenci',\n",
              " '\"políc feder acab divulg encontr prov apart lula, 4ª série\" jorn est min',\n",
              " '\"pra estação\" lot nest sáb ver bh geral est min',\n",
              " '\"represent ferrament monitor educ red estad minas, secret est',\n",
              " '\"us aeronav pertenc est mg, domingo, p/ fim pessoais, clar desvi finalidade\"',\n",
              " '\"vou post uma curios sobr corp humano\" *o jap men est min gerais* ????¿¿¿?¿',\n",
              " '#acordaminas!!! govern fern pimentel, flagr us helicópter est mg',\n",
              " '#acordaminas!!!! pov min pé bund dess canalh',\n",
              " '#alert nom cee utiliz golp est',\n",
              " '#bet #betalab #mg afili glob apresent am demit após critic governador…',\n",
              " '#bet #betalab #mg cao presídi am ped apoi uni seil dia após massacr',\n",
              " '#bet #betalab #mg cao presídi tem cármen lúc reún debat cris',\n",
              " '#bet #betalab #mg cris carcerár govern rora ped forç nacion tem',\n",
              " '#bet #betalab #mg cris carcerár secret sp diz guerr facç país',\n",
              " '#bet #betalab #mg cris polít df agrav rollemberg exon vicegovern cargo… #timbet #rt #brasil',\n",
              " '#bet #betalab #mg escal viol presídi am ped apoi forç nacional…',\n",
              " '#bet #betalab #mg escal viol crim organiz brasil disput 27…',\n",
              " '#bet #betalab #mg est afirm ter sid notific apes decis judicial, reajuste……',\n",
              " '#bet #betalab #mg est espírit paulist \"voz\" trânsito, buzin reflet pressa,……',\n",
              " '#bet #betalab #mg est fal part pmdb qu barr vet tem negoci de……',\n",
              " '#bet #betalab #mg exministr outr serv pt mantêm carg estratégicos… #timbet #rt #brasil',\n",
              " \"#bet #betalab #mg expresid câm justiç suíç vê 'indíci concretos' contra…\",\n",
              " '#bet #betalab #mg govern calam financ bb avis justiç min tem…',\n",
              " \"#bet #betalab #mg sobr massacr pf facç 'cel comando' dentr prisão…\",\n",
              " '#bet #betalab #mg marketing vet med pae doaç sang capoe 1ª……',\n",
              " '#bet #betalab #mg massacr presídi manau govern am rebat ministr justiç e… #timbet #rt #brasil',\n",
              " '#bet #betalab #mg mudanç propost govern reform lib trabalh 12 hor alguns……',\n",
              " '#bet #betalab #mg muit págin investig \"qg\" lav jat reún 30 milhões……',\n",
              " '#bet #betalab #mg últ doi ano govern pag r$ 2,4 bi alv lav jat']"
            ]
          },
          "metadata": {},
          "execution_count": 33
        }
      ]
    },
    {
      "cell_type": "markdown",
      "metadata": {
        "id": "N27Ueb96lu7W"
      },
      "source": [
        "**Tokenização**\n",
        "- Atente para o tipo de dados que você está trabalhando."
      ]
    },
    {
      "cell_type": "code",
      "metadata": {
        "id": "Dq6O2GxKlz-6"
      },
      "source": [
        "from nltk.tokenize import word_tokenize\n"
      ],
      "execution_count": 34,
      "outputs": []
    },
    {
      "cell_type": "code",
      "metadata": {
        "id": "hfkgKqmEmupe"
      },
      "source": [
        "frase = 'A live do @blogminerando é show! :) :-) ;) =D'"
      ],
      "execution_count": 35,
      "outputs": []
    },
    {
      "cell_type": "code",
      "metadata": {
        "id": "ixDJyhR7l3-S",
        "colab": {
          "base_uri": "https://localhost:8080/"
        },
        "outputId": "9c0210fa-86f1-427a-80db-29b2dfc19abd"
      },
      "source": [
        "\n",
        "word_tokenize(frase)"
      ],
      "execution_count": 36,
      "outputs": [
        {
          "output_type": "execute_result",
          "data": {
            "text/plain": [
              "['A',\n",
              " 'live',\n",
              " 'do',\n",
              " '@',\n",
              " 'blogminerando',\n",
              " 'é',\n",
              " 'show',\n",
              " '!',\n",
              " ':',\n",
              " ')',\n",
              " ':',\n",
              " '-',\n",
              " ')',\n",
              " ';',\n",
              " ')',\n",
              " '=D']"
            ]
          },
          "metadata": {},
          "execution_count": 36
        }
      ]
    },
    {
      "cell_type": "code",
      "metadata": {
        "id": "uJeCv1E4lA7O"
      },
      "source": [
        "from nltk.tokenize import TweetTokenizer"
      ],
      "execution_count": 37,
      "outputs": []
    },
    {
      "cell_type": "code",
      "metadata": {
        "id": "PsW12SRmle1u"
      },
      "source": [
        "tweet_tokenizer = TweetTokenizer()"
      ],
      "execution_count": 38,
      "outputs": []
    },
    {
      "cell_type": "code",
      "metadata": {
        "id": "rlDjKW46mV51",
        "colab": {
          "base_uri": "https://localhost:8080/"
        },
        "outputId": "0f2caf10-b45c-415f-8fa9-ac9fa18da145"
      },
      "source": [
        "tweet_tokenizer.tokenize(frase)"
      ],
      "execution_count": 39,
      "outputs": [
        {
          "output_type": "execute_result",
          "data": {
            "text/plain": [
              "['A',\n",
              " 'live',\n",
              " 'do',\n",
              " '@blogminerando',\n",
              " 'é',\n",
              " 'show',\n",
              " '!',\n",
              " ':)',\n",
              " ':-)',\n",
              " ';)',\n",
              " '=D']"
            ]
          },
          "metadata": {},
          "execution_count": 39
        }
      ]
    },
    {
      "cell_type": "markdown",
      "metadata": {
        "collapsed": true,
        "id": "y_42starfHH_"
      },
      "source": [
        "## Criando o modelo"
      ]
    },
    {
      "cell_type": "markdown",
      "metadata": {
        "id": "eGBtrI9zfHH_"
      },
      "source": [
        "**Instancia o objeto que faz a vetorização dos dados de texto**"
      ]
    },
    {
      "cell_type": "code",
      "metadata": {
        "id": "VOZ0Nej6fHIA"
      },
      "source": [
        "vectorizer = CountVectorizer(analyzer=\"word\", tokenizer=tweet_tokenizer.tokenize)\n",
        "\n",
        "# vectorizer = CountVectorizer(analyzer=\"word\", tokenizer=tweet_tokenizer.tokenize, max_features=1000)   <-- bases muito grandes"
      ],
      "execution_count": 40,
      "outputs": []
    },
    {
      "cell_type": "markdown",
      "metadata": {
        "id": "Kzs88XE1fHIC"
      },
      "source": [
        "**Aplica o vetorizador nos dados de texto**"
      ]
    },
    {
      "cell_type": "code",
      "metadata": {
        "id": "bNmtvrUafHIC",
        "colab": {
          "base_uri": "https://localhost:8080/"
        },
        "outputId": "bc51ac37-83d5-46ab-c102-dcaf0d90bd1b"
      },
      "source": [
        "freq_tweets = vectorizer.fit_transform(tweets)\n",
        "type(freq_tweets)"
      ],
      "execution_count": 41,
      "outputs": [
        {
          "output_type": "execute_result",
          "data": {
            "text/plain": [
              "scipy.sparse.csr.csr_matrix"
            ]
          },
          "metadata": {},
          "execution_count": 41
        }
      ]
    },
    {
      "cell_type": "markdown",
      "metadata": {
        "id": "06Qgq0EIfHIH"
      },
      "source": [
        "**Formato (Linhas, Colunas) da matriz**"
      ]
    },
    {
      "cell_type": "code",
      "metadata": {
        "id": "bEQi20ajfHII",
        "colab": {
          "base_uri": "https://localhost:8080/"
        },
        "outputId": "cf28d775-eae7-4599-9866-4deb7ec14b40"
      },
      "source": [
        "freq_tweets.shape"
      ],
      "execution_count": 42,
      "outputs": [
        {
          "output_type": "execute_result",
          "data": {
            "text/plain": [
              "(5765, 6138)"
            ]
          },
          "metadata": {},
          "execution_count": 42
        }
      ]
    },
    {
      "cell_type": "markdown",
      "metadata": {
        "id": "lejKj5JCjKSx"
      },
      "source": [
        "**Treino do modelo de Machine Learning**"
      ]
    },
    {
      "cell_type": "code",
      "metadata": {
        "id": "NY5FcgiCfHIE",
        "colab": {
          "base_uri": "https://localhost:8080/"
        },
        "outputId": "9a7a8e0f-f1d2-448d-d98b-bc3ddcc31664"
      },
      "source": [
        "modelo = MultinomialNB()\n",
        "modelo.fit(freq_tweets,classes)"
      ],
      "execution_count": 43,
      "outputs": [
        {
          "output_type": "execute_result",
          "data": {
            "text/plain": [
              "MultinomialNB()"
            ]
          },
          "metadata": {},
          "execution_count": 43
        }
      ]
    },
    {
      "cell_type": "markdown",
      "metadata": {
        "id": "r_g3jIwCfHIL"
      },
      "source": [
        "**Matriz**"
      ]
    },
    {
      "cell_type": "code",
      "metadata": {
        "id": "T5t9uHX7fHIL",
        "colab": {
          "base_uri": "https://localhost:8080/"
        },
        "outputId": "e41ccf28-e9f4-4539-b209-f3efbcececcc"
      },
      "source": [
        "freq_tweets.A"
      ],
      "execution_count": 44,
      "outputs": [
        {
          "output_type": "execute_result",
          "data": {
            "text/plain": [
              "array([[0, 0, 0, ..., 0, 0, 3],\n",
              "       [0, 0, 0, ..., 0, 0, 1],\n",
              "       [0, 0, 0, ..., 0, 0, 2],\n",
              "       ...,\n",
              "       [0, 0, 0, ..., 0, 0, 0],\n",
              "       [0, 0, 0, ..., 0, 0, 0],\n",
              "       [0, 0, 0, ..., 0, 0, 0]])"
            ]
          },
          "metadata": {},
          "execution_count": 44
        }
      ]
    },
    {
      "cell_type": "markdown",
      "metadata": {
        "id": "GIHIF5wafHIN"
      },
      "source": [
        "**Testando o modelo com algumas instâncias simples**"
      ]
    },
    {
      "cell_type": "code",
      "metadata": {
        "id": "RSDjpEc7fHIO"
      },
      "source": [
        "# defina instâncias de teste dentro de uma lista\n",
        "testes = ['Esse governo está no início, vamos ver o que vai dar',\n",
        "          'Estou muito feliz com o governo de Minas esse ano',\n",
        "          'O estado de Minas Gerais decretou calamidade financeira!!!',\n",
        "          'A segurança desse país está deixando a desejar',\n",
        "          'O governador de Minas é mais uma vez do PT']"
      ],
      "execution_count": 45,
      "outputs": []
    },
    {
      "cell_type": "markdown",
      "metadata": {
        "id": "NhOg0rrQfHIP"
      },
      "source": [
        "**Aplica a função de Pré-processamento nos dados**"
      ]
    },
    {
      "cell_type": "code",
      "metadata": {
        "id": "9JLAwKhsfHIQ"
      },
      "source": [
        "testes = [Preprocessing(i) for i in testes]"
      ],
      "execution_count": 46,
      "outputs": []
    },
    {
      "cell_type": "code",
      "metadata": {
        "id": "xX2jyVWnfHIS"
      },
      "source": [
        "# Transforma os dados de teste em vetores de palavras.\n",
        "freq_testes = vectorizer.transform(testes)"
      ],
      "execution_count": 47,
      "outputs": []
    },
    {
      "cell_type": "code",
      "metadata": {
        "id": "i1Oe0lfcfHIU",
        "colab": {
          "base_uri": "https://localhost:8080/"
        },
        "outputId": "b41a0eec-a797-49dd-a004-f5c43cf3c580"
      },
      "source": [
        "# Fazendo a classificação com o modelo treinado.\n",
        "for t, c in zip (testes,modelo.predict(freq_testes)):\n",
        "    print (t +\", \"+ c)"
      ],
      "execution_count": 48,
      "outputs": [
        {
          "output_type": "stream",
          "name": "stdout",
          "text": [
            "govern início, vam ver vai dar, Neutro\n",
            "feliz govern min ano, Neutro\n",
            "est min geral decret calam financeira!!!, Negativo\n",
            "seguranç dess país deix desej, Neutro\n",
            "govern min vez pt, Negativo\n"
          ]
        }
      ]
    },
    {
      "cell_type": "code",
      "metadata": {
        "id": "7BsTaayEfHIW",
        "colab": {
          "base_uri": "https://localhost:8080/"
        },
        "outputId": "76fcc111-5bed-4fac-e247-84450dc76562"
      },
      "source": [
        "# Probabilidades de cada classe\n",
        "print (modelo.classes_)\n",
        "modelo.predict_proba(freq_testes).round(2)"
      ],
      "execution_count": 49,
      "outputs": [
        {
          "output_type": "stream",
          "name": "stdout",
          "text": [
            "['Negativo' 'Neutro' 'Positivo']\n"
          ]
        },
        {
          "output_type": "execute_result",
          "data": {
            "text/plain": [
              "array([[0.12, 0.88, 0.  ],\n",
              "       [0.02, 0.95, 0.03],\n",
              "       [1.  , 0.  , 0.  ],\n",
              "       [0.01, 0.97, 0.01],\n",
              "       [0.69, 0.3 , 0.01]])"
            ]
          },
          "metadata": {},
          "execution_count": 49
        }
      ]
    },
    {
      "cell_type": "markdown",
      "metadata": {
        "id": "8lP-AkxtfHIZ"
      },
      "source": [
        "## **Tags de Negações**"
      ]
    },
    {
      "cell_type": "markdown",
      "metadata": {
        "id": "hHCm2rqrfHIa"
      },
      "source": [
        "* Acrescenta uma tag _NEG encontrada após um 'não'.\n",
        "* Objetivo é dar mais peso para o modelo identificar uma inversão de sentimento da frase.\n",
        "* Exemplos: \n",
        "    - Eu gosto de cachorros, positivo.\n",
        "    - Eu **não** gosto de cachorros, negativo."
      ]
    },
    {
      "cell_type": "code",
      "metadata": {
        "id": "NRgqopgQfHIb"
      },
      "source": [
        "def marque_negacao(texto):\n",
        "    negacoes = ['não','not']\n",
        "    negacao_detectada = False\n",
        "    resultado = []\n",
        "    palavras = texto.split()\n",
        "    for p in palavras:\n",
        "        p = p.lower()\n",
        "        if negacao_detectada == True:\n",
        "            p = p + '_NEG'\n",
        "        if p in negacoes:\n",
        "            negacao_detectada = True\n",
        "        resultado.append(p)\n",
        "    return (\" \".join(resultado))"
      ],
      "execution_count": 50,
      "outputs": []
    },
    {
      "cell_type": "markdown",
      "metadata": {
        "id": "4M4dM-IMfHId"
      },
      "source": [
        "**Exemplos de utilização da tag de negações**"
      ]
    },
    {
      "cell_type": "code",
      "metadata": {
        "id": "wnpgrQRhfHId",
        "colab": {
          "base_uri": "https://localhost:8080/",
          "height": 36
        },
        "outputId": "44df829a-2e7f-4da9-da81-1bcb85ece187"
      },
      "source": [
        "marque_negacao('Eu gosto do partido, votaria novamente nesse governante!')"
      ],
      "execution_count": 51,
      "outputs": [
        {
          "output_type": "execute_result",
          "data": {
            "text/plain": [
              "'eu gosto do partido, votaria novamente nesse governante!'"
            ],
            "application/vnd.google.colaboratory.intrinsic+json": {
              "type": "string"
            }
          },
          "metadata": {},
          "execution_count": 51
        }
      ]
    },
    {
      "cell_type": "code",
      "metadata": {
        "id": "8VAWpxI3fHIf",
        "colab": {
          "base_uri": "https://localhost:8080/",
          "height": 36
        },
        "outputId": "2fa5c774-65f1-46bc-d1cb-ce05b79f3789"
      },
      "source": [
        "marque_negacao('Eu Não gosto do partido e também não votaria novamente nesse governante!')"
      ],
      "execution_count": 52,
      "outputs": [
        {
          "output_type": "execute_result",
          "data": {
            "text/plain": [
              "'eu não gosto_NEG do_NEG partido_NEG e_NEG também_NEG não_NEG votaria_NEG novamente_NEG nesse_NEG governante!_NEG'"
            ],
            "application/vnd.google.colaboratory.intrinsic+json": {
              "type": "string"
            }
          },
          "metadata": {},
          "execution_count": 52
        }
      ]
    },
    {
      "cell_type": "markdown",
      "metadata": {
        "id": "2_7GZsu8fHIi"
      },
      "source": [
        "## **Criando modelos com Pipelines**"
      ]
    },
    {
      "cell_type": "markdown",
      "metadata": {
        "id": "DDGtt4u0fHIj"
      },
      "source": [
        "* Pipelines são interessantes para reduzir código e automatizar fluxos"
      ]
    },
    {
      "cell_type": "code",
      "metadata": {
        "id": "eQEWzXphfHIj"
      },
      "source": [
        "from sklearn.pipeline import Pipeline"
      ],
      "execution_count": 53,
      "outputs": []
    },
    {
      "cell_type": "code",
      "metadata": {
        "id": "hbks3HWdfHIm"
      },
      "source": [
        "pipeline_simples = Pipeline([\n",
        "  ('counts', CountVectorizer()),\n",
        "  ('classifier', MultinomialNB())\n",
        "])"
      ],
      "execution_count": 54,
      "outputs": []
    },
    {
      "cell_type": "markdown",
      "metadata": {
        "id": "Au6K0aJffHIs"
      },
      "source": [
        "* Pipeline que atribui tag de negacoes nas palavras"
      ]
    },
    {
      "cell_type": "code",
      "metadata": {
        "id": "zn-x4LvLfHIt"
      },
      "source": [
        "pipeline_negacoes = Pipeline([\n",
        "  ('counts', CountVectorizer(tokenizer=lambda text: marque_negacao(text))),\n",
        "  ('classifier', MultinomialNB())\n",
        "])"
      ],
      "execution_count": 55,
      "outputs": []
    },
    {
      "cell_type": "code",
      "metadata": {
        "id": "hRbBD5HlfHIx",
        "colab": {
          "base_uri": "https://localhost:8080/"
        },
        "outputId": "a0c9e0ee-1ca1-4a56-b662-2d545ebb4932"
      },
      "source": [
        "pipeline_simples.fit(tweets,classes)"
      ],
      "execution_count": 56,
      "outputs": [
        {
          "output_type": "execute_result",
          "data": {
            "text/plain": [
              "Pipeline(steps=[('counts', CountVectorizer()), ('classifier', MultinomialNB())])"
            ]
          },
          "metadata": {},
          "execution_count": 56
        }
      ]
    },
    {
      "cell_type": "code",
      "metadata": {
        "id": "X5IGLvsefHIy",
        "colab": {
          "base_uri": "https://localhost:8080/"
        },
        "outputId": "353d95e4-1de8-41c7-9d23-75def72e4f37"
      },
      "source": [
        "pipeline_simples.steps"
      ],
      "execution_count": 58,
      "outputs": [
        {
          "output_type": "execute_result",
          "data": {
            "text/plain": [
              "[('counts', CountVectorizer()), ('classifier', MultinomialNB())]"
            ]
          },
          "metadata": {},
          "execution_count": 58
        }
      ]
    },
    {
      "cell_type": "markdown",
      "metadata": {
        "id": "LyE8h7lEfHI0"
      },
      "source": [
        "* Gera o modelo de negações"
      ]
    },
    {
      "cell_type": "code",
      "metadata": {
        "id": "AJnMHmwSfHI1",
        "colab": {
          "base_uri": "https://localhost:8080/"
        },
        "outputId": "a7ab3fd4-ebd7-4f6f-b248-1eb32aced36a"
      },
      "source": [
        "pipeline_negacoes.fit(tweets,classes)"
      ],
      "execution_count": 57,
      "outputs": [
        {
          "output_type": "execute_result",
          "data": {
            "text/plain": [
              "Pipeline(steps=[('counts',\n",
              "                 CountVectorizer(tokenizer=<function <lambda> at 0x7f4820b2a950>)),\n",
              "                ('classifier', MultinomialNB())])"
            ]
          },
          "metadata": {},
          "execution_count": 57
        }
      ]
    },
    {
      "cell_type": "markdown",
      "metadata": {
        "id": "1js2hfBdfHI6"
      },
      "source": [
        "* Etapas do pipeline"
      ]
    },
    {
      "cell_type": "code",
      "metadata": {
        "id": "ytZ7h4lXfHI7",
        "colab": {
          "base_uri": "https://localhost:8080/"
        },
        "outputId": "a4b876c6-ad5c-4fe5-ae93-923e000e1dcd"
      },
      "source": [
        "pipeline_negacoes.steps"
      ],
      "execution_count": 59,
      "outputs": [
        {
          "output_type": "execute_result",
          "data": {
            "text/plain": [
              "[('counts', CountVectorizer(tokenizer=<function <lambda> at 0x7f4820b2a950>)),\n",
              " ('classifier', MultinomialNB())]"
            ]
          },
          "metadata": {},
          "execution_count": 59
        }
      ]
    },
    {
      "cell_type": "markdown",
      "metadata": {
        "id": "99PR3Zkxymew"
      },
      "source": [
        "Modelo com SVM"
      ]
    },
    {
      "cell_type": "code",
      "metadata": {
        "id": "8FIDTiQKyk5l"
      },
      "source": [
        "pipeline_svm_simples = Pipeline([\n",
        "  ('counts', CountVectorizer()),\n",
        "  ('classifier', svm.SVC(kernel='linear'))\n",
        "])"
      ],
      "execution_count": 60,
      "outputs": []
    },
    {
      "cell_type": "code",
      "metadata": {
        "id": "b3q4BrMey2zh"
      },
      "source": [
        "pipeline_svm_negacoes = Pipeline([\n",
        "  ('counts', CountVectorizer(tokenizer=lambda text: marque_negacao(text))),\n",
        "  ('classifier', svm.SVC(kernel='linear'))\n",
        "])"
      ],
      "execution_count": 61,
      "outputs": []
    },
    {
      "cell_type": "markdown",
      "metadata": {
        "id": "SGfKFbZRfHI-"
      },
      "source": [
        "## Validando os Modelos com Validação Cruzada"
      ]
    },
    {
      "cell_type": "markdown",
      "metadata": {
        "collapsed": true,
        "id": "t-E9PpV6fHI_"
      },
      "source": [
        "* Fazendo o cross validation do modelo"
      ]
    },
    {
      "cell_type": "code",
      "metadata": {
        "id": "4Gk7uMEtfHJA"
      },
      "source": [
        "resultados = cross_val_predict(pipeline_simples, tweets, classes, cv=10)"
      ],
      "execution_count": 91,
      "outputs": []
    },
    {
      "cell_type": "markdown",
      "metadata": {
        "collapsed": true,
        "id": "c8CqLggufHJD"
      },
      "source": [
        "* Medindo a acurácia média do modelo"
      ]
    },
    {
      "cell_type": "code",
      "metadata": {
        "id": "y27p3EpxfHJD",
        "colab": {
          "base_uri": "https://localhost:8080/"
        },
        "outputId": "5e346062-ff4e-49ec-91f1-887b1142f35f"
      },
      "source": [
        "metrics.accuracy_score(classes,resultados)"
      ],
      "execution_count": 92,
      "outputs": [
        {
          "output_type": "execute_result",
          "data": {
            "text/plain": [
              "0.8638334778837814"
            ]
          },
          "metadata": {},
          "execution_count": 92
        }
      ]
    },
    {
      "cell_type": "markdown",
      "metadata": {
        "collapsed": true,
        "id": "049BZedMfHJG"
      },
      "source": [
        "* Medidas de validação do modelo"
      ]
    },
    {
      "cell_type": "code",
      "metadata": {
        "id": "3DQOMkQZfHJH",
        "colab": {
          "base_uri": "https://localhost:8080/"
        },
        "outputId": "3161c2f6-10c4-4b2a-8024-39e5a2487007"
      },
      "source": [
        "sentimento=['Positivo','Negativo','Neutro']\n",
        "print (metrics.classification_report(classes,resultados))"
      ],
      "execution_count": 101,
      "outputs": [
        {
          "output_type": "stream",
          "name": "stdout",
          "text": [
            "              precision    recall  f1-score   support\n",
            "\n",
            "    Negativo       0.77      0.90      0.83       951\n",
            "      Neutro       0.80      0.85      0.82      1974\n",
            "    Positivo       0.96      0.86      0.91      2840\n",
            "\n",
            "    accuracy                           0.86      5765\n",
            "   macro avg       0.84      0.87      0.85      5765\n",
            "weighted avg       0.87      0.86      0.87      5765\n",
            "\n"
          ]
        }
      ]
    },
    {
      "cell_type": "markdown",
      "metadata": {
        "id": "vQuKPwm-fHJI"
      },
      "source": [
        "* Matriz de confusão"
      ]
    },
    {
      "cell_type": "code",
      "metadata": {
        "id": "EKXS0gh-fHJI",
        "colab": {
          "base_uri": "https://localhost:8080/"
        },
        "outputId": "288ad1a7-8126-4a60-f043-eb32658cce42"
      },
      "source": [
        "print (pd.crosstab(classes, resultados, rownames=['Real'], colnames=['Predito'], margins=True))"
      ],
      "execution_count": 102,
      "outputs": [
        {
          "output_type": "stream",
          "name": "stdout",
          "text": [
            "Predito   Negativo  Neutro  Positivo   All\n",
            "Real                                      \n",
            "Negativo       852      91         8   951\n",
            "Neutro         196    1675       103  1974\n",
            "Positivo        64     323      2453  2840\n",
            "All           1112    2089      2564  5765\n"
          ]
        }
      ]
    },
    {
      "cell_type": "code",
      "metadata": {
        "id": "3mBacjlezjA1"
      },
      "source": [
        "def Metricas(modelo, tweets, classes):\n",
        "  resultados = cross_val_predict(modelo, tweets, classes, cv=10)\n",
        "  return 'Acurácia do modelo: {}'.format(metrics.accuracy_score(classes,resultados))"
      ],
      "execution_count": 103,
      "outputs": []
    },
    {
      "cell_type": "code",
      "metadata": {
        "id": "YvChG4un0M_A",
        "colab": {
          "base_uri": "https://localhost:8080/",
          "height": 36
        },
        "outputId": "3f84e185-d679-450b-a731-daeae52e6764"
      },
      "source": [
        "# naive bayes simples\n",
        "Metricas(pipeline_simples,tweets,classes)"
      ],
      "execution_count": 104,
      "outputs": [
        {
          "output_type": "execute_result",
          "data": {
            "text/plain": [
              "'Acurácia do modelo: 0.8638334778837814'"
            ],
            "application/vnd.google.colaboratory.intrinsic+json": {
              "type": "string"
            }
          },
          "metadata": {},
          "execution_count": 104
        }
      ]
    },
    {
      "cell_type": "code",
      "metadata": {
        "id": "S9_-UNWP1U4A",
        "colab": {
          "base_uri": "https://localhost:8080/",
          "height": 36
        },
        "outputId": "cd29032b-813f-4487-9d6e-2e4c1c03cbe7"
      },
      "source": [
        "# naive bayes com tag de negacoes\n",
        "Metricas(pipeline_negacoes,tweets,classes)"
      ],
      "execution_count": 105,
      "outputs": [
        {
          "output_type": "execute_result",
          "data": {
            "text/plain": [
              "'Acurácia do modelo: 0.6992194275802255'"
            ],
            "application/vnd.google.colaboratory.intrinsic+json": {
              "type": "string"
            }
          },
          "metadata": {},
          "execution_count": 105
        }
      ]
    },
    {
      "cell_type": "code",
      "metadata": {
        "id": "_tImcLHZ1VDF",
        "colab": {
          "base_uri": "https://localhost:8080/",
          "height": 36
        },
        "outputId": "0a9ee9ab-f5a6-4bbb-eeab-45ec7697753d"
      },
      "source": [
        "# svm linear simples\n",
        "Metricas(pipeline_svm_simples,tweets,classes)"
      ],
      "execution_count": 106,
      "outputs": [
        {
          "output_type": "execute_result",
          "data": {
            "text/plain": [
              "'Acurácia do modelo: 0.8799653078924544'"
            ],
            "application/vnd.google.colaboratory.intrinsic+json": {
              "type": "string"
            }
          },
          "metadata": {},
          "execution_count": 106
        }
      ]
    },
    {
      "cell_type": "code",
      "metadata": {
        "id": "SOPkPKnT1xVm",
        "colab": {
          "base_uri": "https://localhost:8080/",
          "height": 36
        },
        "outputId": "5f6fb919-52a4-401d-8d2f-4f9e56baa750"
      },
      "source": [
        "# svm linear com tag de negacoes\n",
        "Metricas(pipeline_svm_negacoes,tweets,classes)"
      ],
      "execution_count": 107,
      "outputs": [
        {
          "output_type": "execute_result",
          "data": {
            "text/plain": [
              "'Acurácia do modelo: 0.7330442324371206'"
            ],
            "application/vnd.google.colaboratory.intrinsic+json": {
              "type": "string"
            }
          },
          "metadata": {},
          "execution_count": 107
        }
      ]
    },
    {
      "cell_type": "markdown",
      "metadata": {
        "id": "KhJiRyUmfHJK"
      },
      "source": [
        "## **Modelo com a Tag de Negações**"
      ]
    },
    {
      "cell_type": "code",
      "metadata": {
        "id": "pb284ewqfHJM"
      },
      "source": [
        "resultados = cross_val_predict(pipeline_negacoes, tweets, classes, cv=10)"
      ],
      "execution_count": 108,
      "outputs": []
    },
    {
      "cell_type": "markdown",
      "metadata": {
        "id": "yqD7zS18fHJO"
      },
      "source": [
        "* Medindo a acurácia média do modelo"
      ]
    },
    {
      "cell_type": "code",
      "metadata": {
        "id": "Ozi38FIlfHJP",
        "colab": {
          "base_uri": "https://localhost:8080/"
        },
        "outputId": "f8a4ac8d-c238-4078-ea61-3e9e70e112a7"
      },
      "source": [
        "metrics.accuracy_score(classes,resultados)"
      ],
      "execution_count": 109,
      "outputs": [
        {
          "output_type": "execute_result",
          "data": {
            "text/plain": [
              "0.6992194275802255"
            ]
          },
          "metadata": {},
          "execution_count": 109
        }
      ]
    },
    {
      "cell_type": "code",
      "metadata": {
        "id": "IFH-DuBofHJU",
        "colab": {
          "base_uri": "https://localhost:8080/"
        },
        "outputId": "254cfd01-62aa-4246-85c4-e10db45d1f10"
      },
      "source": [
        "sentimento=['Positivo','Negativo','Neutro']\n",
        "print (metrics.classification_report(classes,resultados))"
      ],
      "execution_count": 110,
      "outputs": [
        {
          "output_type": "stream",
          "name": "stdout",
          "text": [
            "              precision    recall  f1-score   support\n",
            "\n",
            "    Negativo       0.65      0.53      0.58       951\n",
            "      Neutro       0.69      0.59      0.63      1974\n",
            "    Positivo       0.72      0.83      0.77      2840\n",
            "\n",
            "    accuracy                           0.70      5765\n",
            "   macro avg       0.68      0.65      0.66      5765\n",
            "weighted avg       0.70      0.70      0.69      5765\n",
            "\n"
          ]
        }
      ]
    },
    {
      "cell_type": "markdown",
      "metadata": {
        "collapsed": true,
        "id": "jtDzIhrhfHJW"
      },
      "source": [
        "* Matriz de confusão"
      ]
    },
    {
      "cell_type": "code",
      "metadata": {
        "id": "KDYrF9v_fHJW",
        "colab": {
          "base_uri": "https://localhost:8080/"
        },
        "outputId": "a84c5771-e2c2-4d2e-90d1-2751bff77987"
      },
      "source": [
        "print (pd.crosstab(classes, resultados, rownames=['Real'], colnames=['Predito'], margins=True))"
      ],
      "execution_count": 111,
      "outputs": [
        {
          "output_type": "stream",
          "name": "stdout",
          "text": [
            "Predito   Negativo  Neutro  Positivo   All\n",
            "Real                                      \n",
            "Negativo       503     169       279   951\n",
            "Neutro         162    1165       647  1974\n",
            "Positivo       114     363      2363  2840\n",
            "All            779    1697      3289  5765\n"
          ]
        }
      ]
    },
    {
      "cell_type": "markdown",
      "metadata": {
        "id": "wfLQeW6yfHJZ"
      },
      "source": [
        "## **Avaliando modelo com Bigrams**"
      ]
    },
    {
      "cell_type": "markdown",
      "metadata": {
        "id": "q9bd7jK13krf"
      },
      "source": [
        "Eu gosto do Brasil -------------> **'eu gosto', 'gosto do' , 'do brasil'**"
      ]
    },
    {
      "cell_type": "code",
      "metadata": {
        "id": "tqdMpvcXfHJb",
        "colab": {
          "base_uri": "https://localhost:8080/"
        },
        "outputId": "547a455c-3907-4caa-d19a-6f5ab3f3ac85"
      },
      "source": [
        "# Bigrams\n",
        "vectorizer = CountVectorizer(ngram_range=(2,2))\n",
        "freq_tweets = vectorizer.fit_transform(tweets)\n",
        "modelo = MultinomialNB()\n",
        "modelo.fit(freq_tweets,classes)"
      ],
      "execution_count": 112,
      "outputs": [
        {
          "output_type": "execute_result",
          "data": {
            "text/plain": [
              "MultinomialNB()"
            ]
          },
          "metadata": {},
          "execution_count": 112
        }
      ]
    },
    {
      "cell_type": "code",
      "metadata": {
        "id": "D71t-pPGfHJc"
      },
      "source": [
        "resultados = cross_val_predict(modelo, freq_tweets, classes, cv=10)"
      ],
      "execution_count": 113,
      "outputs": []
    },
    {
      "cell_type": "code",
      "metadata": {
        "id": "Eqv_fetJfHJg",
        "colab": {
          "base_uri": "https://localhost:8080/"
        },
        "outputId": "364b5c21-a6a5-45fd-98cd-74c266754f0c"
      },
      "source": [
        "metrics.accuracy_score(classes,resultados)"
      ],
      "execution_count": 114,
      "outputs": [
        {
          "output_type": "execute_result",
          "data": {
            "text/plain": [
              "0.8225498699045967"
            ]
          },
          "metadata": {},
          "execution_count": 114
        }
      ]
    },
    {
      "cell_type": "code",
      "metadata": {
        "id": "WzoMUniTfHJi",
        "colab": {
          "base_uri": "https://localhost:8080/"
        },
        "outputId": "1f3257cc-22ea-4700-f1d0-e6b4c77c8037"
      },
      "source": [
        "sentimento=['Positivo','Negativo','Neutro']\n",
        "print (metrics.classification_report(classes,resultados))"
      ],
      "execution_count": 115,
      "outputs": [
        {
          "output_type": "stream",
          "name": "stdout",
          "text": [
            "              precision    recall  f1-score   support\n",
            "\n",
            "    Negativo       0.55      0.95      0.69       951\n",
            "      Neutro       0.91      0.75      0.82      1974\n",
            "    Positivo       0.95      0.83      0.88      2840\n",
            "\n",
            "    accuracy                           0.82      5765\n",
            "   macro avg       0.80      0.84      0.80      5765\n",
            "weighted avg       0.87      0.82      0.83      5765\n",
            "\n"
          ]
        }
      ]
    },
    {
      "cell_type": "markdown",
      "metadata": {
        "id": "WiC2Ns5-fHJp"
      },
      "source": [
        "## **Considerações Finais**"
      ]
    },
    {
      "cell_type": "markdown",
      "metadata": {
        "id": "W_HRElekfHJq"
      },
      "source": [
        "* Considere aumentar a quantidade de dados de treino.\n",
        "\n",
        "* Pela sua simplicidade o Naive Bayes pode ser usado perfeitamente como um algoritmo de Baseline.\n",
        "\n",
        "* Considere alterar os parâmetros do algoritmo."
      ]
    },
    {
      "cell_type": "markdown",
      "metadata": {
        "id": "q7IEqCXffHJq"
      },
      "source": [
        "**www.minerandodados.com.br** - *A maior comunidade de Data Science do Brasil*"
      ]
    }
  ]
}